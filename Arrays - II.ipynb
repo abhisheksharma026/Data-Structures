{
 "cells": [
  {
   "cell_type": "markdown",
   "id": "e09f5c23-4d9d-43cc-afa8-85f56c993add",
   "metadata": {},
   "source": [
    "#### Find a range that covers all the elements of given N ranges"
   ]
  },
  {
   "cell_type": "code",
   "execution_count": 1,
   "id": "accbd7b5-5f20-4ac2-87d3-a0739b2a674c",
   "metadata": {},
   "outputs": [],
   "source": [
    "def largestRange(array):\n",
    "    array = sorted(list(set(array)))\n",
    "    if len(array) == 1:\n",
    "        return [array[0], array[0]]\n",
    "    \n",
    "    elif len(array) == 2:\n",
    "        return [array[0], array[1]]\n",
    "    \n",
    "    else:\n",
    "        seq = []\n",
    "        mainSeq = []\n",
    "        for idx, item in enumerate(array[:-1]): # Excluding the last\n",
    "            if array[idx] + 1 == array[idx+1]: # Current + 1 = Next ?\n",
    "                seq.append(item)\n",
    "            elif array[idx-1] + 1 == array[idx]: \n",
    "                seq.append(array[idx])\n",
    "                mainSeq.append(seq)\n",
    "                seq = []\n",
    "            else:\n",
    "                pass\n",
    "        # For last item!\n",
    "        if array[idx] + 1 == array[idx+1]: # Current + 1 = Next ?\n",
    "            seq.append(array[idx+1])\n",
    "        mainSeq.append(seq)\n",
    "        \n",
    "    longestSeq = max(mainSeq, key=len)\n",
    "    a,b = min(longestSeq), max(longestSeq)\n",
    "    return [a,b]"
   ]
  },
  {
   "cell_type": "code",
   "execution_count": 2,
   "id": "6d4969dc-0b30-4127-a900-165f887c10c4",
   "metadata": {},
   "outputs": [
    {
     "data": {
      "text/plain": [
       "[0, 7]"
      ]
     },
     "execution_count": 2,
     "metadata": {},
     "output_type": "execute_result"
    }
   ],
   "source": [
    "array = [1,11,3,0,15,5,2,4,10,7,12,6]\n",
    "largestRange(array)"
   ]
  },
  {
   "cell_type": "markdown",
   "id": "1004d9ba-5570-46ee-b0e5-305f80d91f2f",
   "metadata": {},
   "source": [
    "#### Minimize prize count required such that smaller value gets less prize in an adjacent pair"
   ]
  },
  {
   "cell_type": "code",
   "execution_count": 3,
   "id": "a142027b-9cff-44be-9e82-25d429878a43",
   "metadata": {},
   "outputs": [],
   "source": [
    "def minRewards(scores):\n",
    "\n",
    "    n = len(scores)\n",
    "    left = [0] * n\n",
    "    left[0] = 1\n",
    "     \n",
    "    for i in range(len(scores)): # Iterate from left->right incrementing accordingly\n",
    "        if scores[i] > scores[i - 1]:\n",
    "            left[i] = left[i - 1] + 1 \n",
    "        else:\n",
    "            left[i] = 1\n",
    "            \n",
    "    right = [0] * n\n",
    "    right[-1] = 1\n",
    "     \n",
    "    for i in range(n - 2, -1, -1): # Iterate from right->left incrementing accordingly\n",
    "        if scores[i] > scores[i + 1]:\n",
    "            right[i] = right[i + 1] + 1\n",
    "        else:\n",
    "            right[i] = 1\n",
    "        \n",
    "    reward = 0\n",
    "    for i in range(n): # Select the max reward for each\n",
    "        reward += max(left[i], right[i])\n",
    "                \n",
    "    return reward\n"
   ]
  },
  {
   "cell_type": "code",
   "execution_count": 4,
   "id": "4178005d-4b83-40d8-b578-c036c87adba1",
   "metadata": {},
   "outputs": [
    {
     "data": {
      "text/plain": [
       "25"
      ]
     },
     "execution_count": 4,
     "metadata": {},
     "output_type": "execute_result"
    }
   ],
   "source": [
    "scores = [8,4,2,1,3,6,7,9,5]\n",
    "minRewards(scores)"
   ]
  }
 ],
 "metadata": {
  "kernelspec": {
   "display_name": "Python 3 (ipykernel)",
   "language": "python",
   "name": "python3"
  },
  "language_info": {
   "codemirror_mode": {
    "name": "ipython",
    "version": 3
   },
   "file_extension": ".py",
   "mimetype": "text/x-python",
   "name": "python",
   "nbconvert_exporter": "python",
   "pygments_lexer": "ipython3",
   "version": "3.8.4"
  }
 },
 "nbformat": 4,
 "nbformat_minor": 5
}
