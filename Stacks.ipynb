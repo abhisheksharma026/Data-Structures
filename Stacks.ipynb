{
 "cells": [
  {
   "cell_type": "markdown",
   "id": "58074857-4c82-4984-82cc-c235940d0adc",
   "metadata": {},
   "source": [
    "#### Design a stack using arrays/lists"
   ]
  },
  {
   "cell_type": "code",
   "execution_count": 1,
   "id": "f700f9e0-7541-45da-8018-6709396ca756",
   "metadata": {},
   "outputs": [],
   "source": [
    "class Stack():\n",
    "    def __init__(self):\n",
    "        self.stack = [] # Intitalise an empty list\n",
    "        \n",
    "    def push(self, value):\n",
    "        self.stack.append(value)\n",
    "        \n",
    "    def pop(self):\n",
    "        lastValue = self.stack[-1]\n",
    "        self.stack.remove(self.stack[-1])\n",
    "        return lastValue\n",
    "    \n",
    "    def peek(self):\n",
    "        return self.stack[-1]\n",
    "    \n",
    "    def isEmpty(self):\n",
    "        return self.stack == []\n",
    "    \n",
    "    def size(self):\n",
    "        return len(self.stack)\n"
   ]
  },
  {
   "cell_type": "code",
   "execution_count": 2,
   "id": "ec05ad5d-62a6-47e5-9ef5-a2329db75dc5",
   "metadata": {},
   "outputs": [
    {
     "name": "stdout",
     "output_type": "stream",
     "text": [
      "Size : 3\n",
      "Popped Value : 3\n",
      "Size : 2\n",
      "Peek : 2\n",
      "Size : 2\n"
     ]
    }
   ],
   "source": [
    "s = Stack()\n",
    "s.push(1)\n",
    "s.push(2)\n",
    "s.push(3)\n",
    "\n",
    "print(\"Size : %d\" %s.size())\n",
    "print(\"Popped Value : %d\" %s.pop())\n",
    "print(\"Size : %d\" %s.size())\n",
    "print(\"Peek : %d\" %s.peek())\n",
    "print(\"Size : %d\" %s.size())"
   ]
  },
  {
   "cell_type": "markdown",
   "id": "9df1ce2f-ee51-4d7f-956c-9d756afdb5c5",
   "metadata": {},
   "source": [
    "#### Min, Max in a stack problem overview\n",
    "\n",
    "The aim is to design an algorithm that can return the maximum item of a stack in O(1) running time complexity. We can use O(N) extra memory!\n",
    "\n",
    "Hint: we can use another stack to track the min, max item!"
   ]
  },
  {
   "cell_type": "code",
   "execution_count": 3,
   "id": "f08fde2b-ae53-4454-8b74-4cffd5f6013f",
   "metadata": {},
   "outputs": [],
   "source": [
    "class MinMaxStack:\n",
    "\n",
    "    def __init__(self):\n",
    "        \n",
    "        self.mainStack = []\n",
    "        self.minMaxStack = []\n",
    "\n",
    "    def peek(self):\n",
    "        return self.mainStack[-1]\n",
    "        \n",
    "    def size(self):\n",
    "        return len(self.mainStack)\n",
    "        \n",
    "    def push(self, value):\n",
    "        self.mainStack.append(value)\n",
    "        minMaxDict = {'min' : value , 'max' : value}\n",
    "        updatedMinMax = {}\n",
    "        \n",
    "        if len(self.mainStack) == 1:\n",
    "            self.minMaxStack.append(minMaxDict)\n",
    "            return\n",
    "        \n",
    "        if len(self.mainStack) > 0:\n",
    "            updatedMinMax[\"min\"] = min(self.minMaxStack[-1][\"min\"], value)\n",
    "            updatedMinMax[\"max\"] = max(self.minMaxStack[-1][\"max\"], value)\n",
    "            \n",
    "        self.minMaxStack.append(updatedMinMax) \n",
    "            \n",
    "    def pop(self):\n",
    "        lastValue = self.mainStack[-1]\n",
    "        del self.mainStack[-1]\n",
    "        del self.minMaxStack[-1]\n",
    "        return lastValue\n",
    "    \n",
    "    def getMinItem(self):\n",
    "        return self.minMaxStack[-1]['min']\n",
    "\n",
    "    def getMaxItem(self):\n",
    "        return self.minMaxStack[-1]['max']\n"
   ]
  },
  {
   "cell_type": "code",
   "execution_count": 4,
   "id": "db13a7c7-ddde-4115-bbe6-cca3172c250a",
   "metadata": {},
   "outputs": [
    {
     "name": "stdout",
     "output_type": "stream",
     "text": [
      "Size : 6\n",
      "Popped Value : 15\n",
      "Size : 5\n",
      "Peek : 10\n",
      "Size : 5\n",
      "Max Item : 40\n",
      "Min Item : 10\n",
      "\n",
      "Popped Value : 10\n",
      "Size : 4\n",
      "Peek : 40\n",
      "Size : 4\n",
      "Max Item : 40\n",
      "Min Item : 12\n",
      "\n",
      "Popped Value : 40\n",
      "Size : 3\n",
      "Peek : 35\n",
      "Size : 3\n",
      "Max Item : 35\n",
      "Min Item : 12\n",
      "\n",
      "Popped Value : 35\n",
      "Size : 2\n",
      "Peek : 28\n",
      "Size : 2\n",
      "Max Item : 28\n",
      "Min Item : 12\n"
     ]
    }
   ],
   "source": [
    "s = MinMaxStack()\n",
    "s.push(12)\n",
    "s.push(28)\n",
    "s.push(35)\n",
    "s.push(40)\n",
    "s.push(10)\n",
    "s.push(15)\n",
    "\n",
    "print(\"Size : %d\" %s.size())\n",
    "print(\"Popped Value : %d\" %s.pop())\n",
    "print(\"Size : %d\" %s.size())\n",
    "print(\"Peek : %d\" %s.peek())\n",
    "print(\"Size : %d\" %s.size())\n",
    "print(\"Max Item : %d\" %s.getMaxItem())\n",
    "print(\"Min Item : %d\" %s.getMinItem())\n",
    "print()\n",
    "\n",
    "print(\"Popped Value : %d\" %s.pop())\n",
    "print(\"Size : %d\" %s.size())\n",
    "print(\"Peek : %d\" %s.peek())\n",
    "print(\"Size : %d\" %s.size())\n",
    "print(\"Max Item : %d\" %s.getMaxItem())\n",
    "print(\"Min Item : %d\" %s.getMinItem())\n",
    "print()\n",
    "\n",
    "print(\"Popped Value : %d\" %s.pop())\n",
    "print(\"Size : %d\" %s.size())\n",
    "print(\"Peek : %d\" %s.peek())\n",
    "print(\"Size : %d\" %s.size())\n",
    "print(\"Max Item : %d\" %s.getMaxItem())\n",
    "print(\"Min Item : %d\" %s.getMinItem())\n",
    "\n",
    "print()\n",
    "print(\"Popped Value : %d\" %s.pop())\n",
    "print(\"Size : %d\" %s.size())\n",
    "print(\"Peek : %d\" %s.peek())\n",
    "print(\"Size : %d\" %s.size())\n",
    "print(\"Max Item : %d\" %s.getMaxItem())\n",
    "print(\"Min Item : %d\" %s.getMinItem())"
   ]
  },
  {
   "cell_type": "markdown",
   "id": "dbfe5aee-3c5c-4605-9d21-994f767dbe27",
   "metadata": {},
   "source": [
    "#### Design a queue abstract data type with the help of stacks."
   ]
  },
  {
   "cell_type": "code",
   "execution_count": 5,
   "id": "cbeb0668-cccc-46d9-b0e4-48f6084ae146",
   "metadata": {},
   "outputs": [],
   "source": [
    "class Queue(): # FIFO based implementation\n",
    "    \n",
    "    def __init__(self):\n",
    "        self.enqueueStack = [] # Intitalise an empty list\n",
    "        self.dequeueStack = []\n",
    "        \n",
    "    def enqueue(self, value):\n",
    "        self.enqueueStack.append(value)\n",
    "        \n",
    "    def dequeue(self):\n",
    "        \n",
    "        if len(self.enqueueStack) == 0 and len(self.dequeueStack) == 0:\n",
    "            raise ValueError('Empty Stacks!')\n",
    "        \n",
    "        # Populate the dequeue stack\n",
    "        if len(self.dequeueStack) == 0:\n",
    "            while len(self.enqueueStack) != 0:\n",
    "                self.dequeueStack.append(self.enqueueStack.pop())\n",
    "                \n",
    "        poppedItem = self.dequeueStack[-1]\n",
    "        del self.dequeueStack[-1]\n",
    "                \n",
    "        while len(self.dequeueStack) != 0:\n",
    "            self.enqueueStack.append(self.dequeueStack.pop())\n",
    "                \n",
    "        return poppedItem\n",
    "    \n",
    "    def peek(self):\n",
    "        return self.enqueueStack[-1]\n",
    "    \n",
    "    def isEmpty(self):\n",
    "        return self.enqueueStack == []\n",
    "    \n",
    "    def size(self):\n",
    "        return len(self.enqueueStack)\n"
   ]
  },
  {
   "cell_type": "code",
   "execution_count": 6,
   "id": "372024c6-9f43-45c9-bbab-d08bcd06804c",
   "metadata": {},
   "outputs": [
    {
     "name": "stdout",
     "output_type": "stream",
     "text": [
      "Size : 6\n",
      "Popped Value : 12\n",
      "Size : 5\n",
      "Peek : 15\n",
      "Popped Value : 28\n",
      "Size : 4\n",
      "Peek : 15\n",
      "Size : 4\n",
      "Popped Value : 35\n",
      "Size : 3\n",
      "Peek : 15\n",
      "Size : 3\n"
     ]
    }
   ],
   "source": [
    "s = Queue()\n",
    "s.enqueue(12)\n",
    "s.enqueue(28)\n",
    "s.enqueue(35)\n",
    "s.enqueue(40)\n",
    "s.enqueue(10)\n",
    "s.enqueue(15)\n",
    "print(\"Size : %d\" %s.size())\n",
    "print(\"Popped Value : %d\" %s.dequeue())\n",
    "print(\"Size : %d\" %s.size())\n",
    "print(\"Peek : %d\" %s.peek())\n",
    "print(\"Popped Value : %d\" %s.dequeue())\n",
    "print(\"Size : %d\" %s.size())\n",
    "print(\"Peek : %d\" %s.peek())\n",
    "print(\"Size : %d\" %s.size())\n",
    "print(\"Popped Value : %d\" %s.dequeue())\n",
    "print(\"Size : %d\" %s.size())\n",
    "print(\"Peek : %d\" %s.peek())\n",
    "print(\"Size : %d\" %s.size())"
   ]
  },
  {
   "cell_type": "markdown",
   "id": "3536fe6e-545d-4de0-b042-28d1196cbb8b",
   "metadata": {},
   "source": [
    "#### Recursively sort a stack in-place"
   ]
  },
  {
   "cell_type": "code",
   "execution_count": 7,
   "id": "a0987ce2-4611-49d9-ba73-8ef37c7baa48",
   "metadata": {},
   "outputs": [],
   "source": [
    "def sortStack(stack):\n",
    "    if len(stack) == 1: # Base Case\n",
    "        return stack\n",
    "    \n",
    "    def sortedInsert(stack, poppedItem):\n",
    "\n",
    "        if len(stack) == 0 or poppedItem > stack[-1]:\n",
    "            stack.append(poppedItem)\n",
    "        else:\n",
    "            curentPoppedItem = stack.pop()\n",
    "            sortedInsert(stack, poppedItem)\n",
    "            stack.append(curentPoppedItem)\n",
    "    \n",
    "    if len(stack) != 0:\n",
    "        poppedItem = stack.pop()\n",
    "        sortStack(stack)\n",
    "        sortedInsert(stack, poppedItem)\n",
    "    \n",
    "    return stack"
   ]
  },
  {
   "cell_type": "code",
   "execution_count": 8,
   "id": "60567852-512d-468d-8bf4-24c0b4703f34",
   "metadata": {},
   "outputs": [
    {
     "data": {
      "text/plain": [
       "[1, 2, 3, 4]"
      ]
     },
     "execution_count": 8,
     "metadata": {},
     "output_type": "execute_result"
    }
   ],
   "source": [
    "s = [2,3,4,1]\n",
    "\n",
    "sortStack(s)"
   ]
  }
 ],
 "metadata": {
  "kernelspec": {
   "display_name": "Python 3 (ipykernel)",
   "language": "python",
   "name": "python3"
  },
  "language_info": {
   "codemirror_mode": {
    "name": "ipython",
    "version": 3
   },
   "file_extension": ".py",
   "mimetype": "text/x-python",
   "name": "python",
   "nbconvert_exporter": "python",
   "pygments_lexer": "ipython3",
   "version": "3.8.4"
  }
 },
 "nbformat": 4,
 "nbformat_minor": 5
}
