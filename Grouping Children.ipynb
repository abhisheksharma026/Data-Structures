{
 "cells": [
  {
   "cell_type": "markdown",
   "id": "72c517fa-a915-4f98-b989-e348e7b648fb",
   "metadata": {},
   "source": [
    "#### Celebration Party Problem\n",
    "\n",
    "\n",
    "Many children come to a celebration, organize them into minimum possible number of groups such that the age of any 2 children in the group differ by atmost 1 year."
   ]
  },
  {
   "cell_type": "code",
   "execution_count": 63,
   "id": "74cd9986-4125-4e40-bc47-3f161361757e",
   "metadata": {},
   "outputs": [
    {
     "data": {
      "text/plain": [
       "[{5, 5.2, 5.35, 5.5, 5.8}, {8, 9}, {10, 10.2, 10.5}, {15, 15.2, 15.8, 16}]"
      ]
     },
     "execution_count": 63,
     "metadata": {},
     "output_type": "execute_result"
    }
   ],
   "source": [
    "def grouping(x, n, differ):\n",
    "    \"\"\"\n",
    "    x = sorted(list of elements)\n",
    "    n = len(x)\n",
    "    differ = difference in questions for grouping\n",
    "    \n",
    "    \"\"\"\n",
    "    group = [] # To store groups\n",
    "    i = 0\n",
    "    while i <= n-1: # Looping through all the elements\n",
    "        subset = set() # To store subsets of groups\n",
    "        [l, r] = [x[i], x[i] + differ] # To store the leftmost element & rightmost limit\n",
    "        subset.add(l) # Add the current element to the subset\n",
    "        i = i + 1 # Increment to iterate over other elements\n",
    "        while i <= n-1 and x[i] <= r: # While the next element isn't greater than the rightmost limit\n",
    "            subset.add(x[i]) # Add the element to the group \n",
    "            i = i + 1 # Increment the index to ckeck for others\n",
    "    \n",
    "        group.append(subset) # Append the subset in the iteration to the main set\n",
    "    return group\n",
    "\n",
    "x = [5, 5.2, 5.35, 5.5, 5.8, 8, 9, 10, 10.2, 10.5, 15, 15.2, 15.8, 16]\n",
    "x = sorted(x)\n",
    "\n",
    "grouping(x,len(x), differ=1)"
   ]
  }
 ],
 "metadata": {
  "kernelspec": {
   "display_name": "Python 3 (ipykernel)",
   "language": "python",
   "name": "python3"
  },
  "language_info": {
   "codemirror_mode": {
    "name": "ipython",
    "version": 3
   },
   "file_extension": ".py",
   "mimetype": "text/x-python",
   "name": "python",
   "nbconvert_exporter": "python",
   "pygments_lexer": "ipython3",
   "version": "3.8.4"
  }
 },
 "nbformat": 4,
 "nbformat_minor": 5
}
