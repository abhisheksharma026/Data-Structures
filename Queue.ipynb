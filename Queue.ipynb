{
 "cells": [
  {
   "cell_type": "code",
   "execution_count": 1,
   "id": "436cba11-0256-40a5-8257-59c2907c5353",
   "metadata": {},
   "outputs": [],
   "source": [
    "class Queue():\n",
    "    \n",
    "    def __init__(self):\n",
    "        self.queue = []\n",
    "        \n",
    "    def __str__(self):\n",
    "        return (self.queue)\n",
    "        \n",
    "    def isEmpty(self):\n",
    "        self.queue == []\n",
    "    \n",
    "    def enqueue(self, value):\n",
    "        self.queue.append(value)\n",
    "    \n",
    "    def dequeue(self): # Return the FIFO based hence 1st item.\n",
    "        # O(N) running time because of shift of indices\n",
    "        firstValue = self.queue[0]\n",
    "        self.queue.remove(self.queue[0])\n",
    "        return firstValue\n",
    "    \n",
    "    def peek(self):\n",
    "        return self.queue[0]\n",
    "    \n",
    "    def size(self):\n",
    "        return len(self.queue)\n",
    "    "
   ]
  },
  {
   "cell_type": "code",
   "execution_count": 3,
   "id": "c4282440-8d84-4ce6-b216-aaf420242c9a",
   "metadata": {},
   "outputs": [
    {
     "name": "stdout",
     "output_type": "stream",
     "text": [
      "Size : 3\n",
      "Dequeued Value : 1\n",
      "Size : 2\n",
      "Peek : 2\n",
      "Size : 2\n"
     ]
    }
   ],
   "source": [
    "q = Queue()\n",
    "q.enqueue(1)\n",
    "q.enqueue(2)\n",
    "q.enqueue(2)\n",
    "\n",
    "print(\"Size : %d\" %q.size())\n",
    "print(\"Dequeued Value : %d\" %q.dequeue())\n",
    "print(\"Size : %d\" %q.size())\n",
    "print(\"Peek : %d\" %q.peek())\n",
    "print(\"Size : %d\" %q.size())"
   ]
  }
 ],
 "metadata": {
  "kernelspec": {
   "display_name": "Python 3 (ipykernel)",
   "language": "python",
   "name": "python3"
  },
  "language_info": {
   "codemirror_mode": {
    "name": "ipython",
    "version": 3
   },
   "file_extension": ".py",
   "mimetype": "text/x-python",
   "name": "python",
   "nbconvert_exporter": "python",
   "pygments_lexer": "ipython3",
   "version": "3.8.4"
  }
 },
 "nbformat": 4,
 "nbformat_minor": 5
}
