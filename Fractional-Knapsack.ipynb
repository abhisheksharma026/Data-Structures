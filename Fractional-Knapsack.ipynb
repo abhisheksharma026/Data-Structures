{
 "cells": [
  {
   "cell_type": "markdown",
   "id": "2004d83d-2e96-49c3-8fc1-19c4c253c57c",
   "metadata": {},
   "source": [
    "### Fractional Knapsack"
   ]
  },
  {
   "cell_type": "markdown",
   "id": "2e42ef4f-cf39-4e5f-9e87-262a472cae8a",
   "metadata": {},
   "source": [
    "Given weights and values of n items, we need to put these items in a knapsack of capacity W to get the maximum total value in the knapsack.\n",
    "\n",
    "In the 0-1 Knapsack problem, we are not allowed to break items. We either take the whole item or don’t take it. \n"
   ]
  },
  {
   "cell_type": "code",
   "execution_count": 1,
   "id": "df1acf1b-3595-4612-bced-c45bd1923f1a",
   "metadata": {},
   "outputs": [
    {
     "data": {
      "text/plain": [
       "(42.0, [2, 3, 2])"
      ]
     },
     "execution_count": 1,
     "metadata": {},
     "output_type": "execute_result"
    }
   ],
   "source": [
    "def fractionalKnapsack(w, v, W):\n",
    "    \"\"\"\n",
    "    w = weight list\n",
    "    v = value list\n",
    "    W = max capacity of the knapsack\n",
    "    return : Profit, Weights chosen, Fraction of weights as per original\n",
    "    # Runtime : O(n)\n",
    "    \"\"\"\n",
    "    originalWeights = w.copy() # To ensure the original weight list doesn't get modified too with weights.\n",
    "    \n",
    "    value = 0 # To store profits\n",
    "    cache = [0 for i in range(0, len(v))] # To store weights used.\n",
    "    fractionTaken = [0 for i in range(0, len(v))] # To store fraction of item taken\n",
    "    valueList = sortByValue(w, v) # List of sorted weights by value\n",
    "    \n",
    "    for i in range(0, len(v)):\n",
    "        if W == 0: # If size of Knapsack is zero, return the values as it is.\n",
    "            # printItems(value, cache, fractionTaken)\n",
    "            return (value, cache)\n",
    "\n",
    "        maxVal = valueList[0][0] # To extract the max profit value \n",
    "        itemPos = valueList[0][1] # To extract the max profit value's original item position\n",
    "\n",
    "        itemWeight = w[itemPos] # Actual item used\n",
    "        minWeight = min(itemWeight, W) # weight of the item chosen 'ideally' should be lesser than capacity \n",
    "        \n",
    "        value = value + minWeight * (maxVal) # To update the profit using the amount of item chosen\n",
    "        w[itemPos] = w[itemPos] - minWeight # Reduce the equivalent weight from the weight list. \n",
    "        cache[itemPos] = cache[itemPos] + minWeight # Increase the equivalent weight in the cache list. \n",
    "        W = W - minWeight # Reduce the capacity of Knapsack\n",
    "        \n",
    "        if minWeight == itemWeight:\n",
    "            valueList.pop(0) # If that item was chosen, remove it from the value list.\n",
    "\n",
    "    fractionTaken = [round((wt/item), 3) for (wt, item) in zip(cache, originalWeights)]\n",
    "    # printItems(value, cache, fractionTaken)\n",
    "    return (value, cache)\n",
    "    \n",
    "def sortByValue(w, v):\n",
    "    \"\"\"\n",
    "    w = weight list\n",
    "    v = value list\n",
    "    return : list of sorted by value items.\n",
    "    # Runtime : O(nlogn)\n",
    "    \"\"\"\n",
    "    cache = [(vi/wi, idx) for (idx, (vi, wi)) in enumerate(zip(v,w))]\n",
    "    cache = sorted(cache, reverse=True, key=lambda x: x[0])\n",
    "    return cache\n",
    "\n",
    "def printItems(value, cache, fractionTaken):\n",
    "    print(\"Profit : \", value)\n",
    "    print(\"Weights chosen in order: \", cache)\n",
    "    print(\"Fraction of items : \", fractionTaken)\n",
    "\n",
    "v = [20, 18, 14]\n",
    "w = [4, 3, 2]\n",
    "W = 7\n",
    "fractionalKnapsack(w, v, W)"
   ]
  },
  {
   "cell_type": "code",
   "execution_count": 2,
   "id": "357817cb-a150-4270-be4f-e0f63665c977",
   "metadata": {},
   "outputs": [
    {
     "data": {
      "text/plain": [
       "(240.0, [10, 20, 20])"
      ]
     },
     "execution_count": 2,
     "metadata": {},
     "output_type": "execute_result"
    }
   ],
   "source": [
    "w = [10, 20, 30]\n",
    "v = [60, 100, 120]\n",
    "W = 50\n",
    "fractionalKnapsack(w, v, W)"
   ]
  },
  {
   "cell_type": "code",
   "execution_count": 3,
   "id": "87efc858-eb4c-4da6-83d3-8e9538f49300",
   "metadata": {},
   "outputs": [
    {
     "data": {
      "text/plain": [
       "(270.0, [5, 0, 20, 0, 35])"
      ]
     },
     "execution_count": 3,
     "metadata": {},
     "output_type": "execute_result"
    }
   ],
   "source": [
    "w = [5, 10, 20, 30, 40]\n",
    "v = [30, 20, 100, 90, 160]\n",
    "W = 60\n",
    "fractionalKnapsack(w, v, W)"
   ]
  }
 ],
 "metadata": {
  "kernelspec": {
   "display_name": "Python 3 (ipykernel)",
   "language": "python",
   "name": "python3"
  },
  "language_info": {
   "codemirror_mode": {
    "name": "ipython",
    "version": 3
   },
   "file_extension": ".py",
   "mimetype": "text/x-python",
   "name": "python",
   "nbconvert_exporter": "python",
   "pygments_lexer": "ipython3",
   "version": "3.8.4"
  }
 },
 "nbformat": 4,
 "nbformat_minor": 5
}
