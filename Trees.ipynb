{
 "cells": [
  {
   "cell_type": "markdown",
   "metadata": {},
   "source": [
    "### Implementing trees via list"
   ]
  },
  {
   "cell_type": "code",
   "execution_count": 6,
   "metadata": {},
   "outputs": [
    {
     "data": {
      "image/png": "[encoded data removed]",
      "text/plain": [
       "<PIL.PngImagePlugin.PngImageFile image mode=RGBA size=323x443 at 0x2B53087EA20>"
      ]
     },
     "metadata": {},
     "output_type": "display_data"
    }
   ],
   "source": [
    "from IPython.display import display\n",
    "from PIL import Image\n",
    "\n",
    "display(Image.open(r\"unbalanced_tree.png\"))"
   ]
  },
  {
   "cell_type": "code",
   "execution_count": 9,
   "metadata": {},
   "outputs": [
    {
     "name": "stdout",
     "output_type": "stream",
     "text": [
      "Preorder traversal of binary tree is : (root, left, right)\n",
      "0\n",
      "1\n",
      "3\n",
      "8\n",
      "10\n",
      "9\n",
      "4\n",
      "2\n",
      "7\n",
      "\n",
      "Inorder traversal of binary tree is : (left, root, right)\n",
      "10\n",
      "8\n",
      "3\n",
      "9\n",
      "1\n",
      "4\n",
      "0\n",
      "7\n",
      "2\n",
      "\n",
      "Postorder traversal of binary tree is : (left, right, root)\n",
      "10\n",
      "8\n",
      "9\n",
      "3\n",
      "4\n",
      "1\n",
      "7\n",
      "2\n",
      "0\n"
     ]
    }
   ],
   "source": [
    "class Node:\n",
    "    def __init__(self, key):\n",
    "        self.left = None\n",
    "        self.right = None\n",
    "        self.val = key\n",
    "        \n",
    "def printInorder(root):\n",
    "    \"\"\"\n",
    "    function to do inorder tree traversal\n",
    "    \"\"\"\n",
    " \n",
    "    if root:\n",
    " \n",
    "        # First recur on left child\n",
    "        printInorder(root.left)\n",
    " \n",
    "        # then print the data of node\n",
    "        print(root.val)\n",
    " \n",
    "        # now recur on right child\n",
    "        printInorder(root.right)\n",
    "\n",
    "def printPostorder(root):\n",
    "    \"\"\"\n",
    "    function to do postorder tree traversal\n",
    "    \"\"\"\n",
    " \n",
    "    if root:\n",
    " \n",
    "        # First recur on left child\n",
    "        printPostorder(root.left)\n",
    " \n",
    "        # the recur on right child\n",
    "        printPostorder(root.right)\n",
    " \n",
    "        # now print the data of node\n",
    "        print(root.val),\n",
    " \n",
    " \n",
    "# A function to do preorder tree traversal\n",
    "def printPreorder(root):\n",
    " \n",
    "    if root:\n",
    " \n",
    "        # First print the data of node\n",
    "        print(root.val),\n",
    " \n",
    "        # Then recur on left child\n",
    "        printPreorder(root.left)\n",
    " \n",
    "        # Finally recur on right child\n",
    "        printPreorder(root.right)\n",
    " \n",
    " \n",
    "# Driver code\n",
    "root = Node(0)\n",
    "root.left = Node(1)\n",
    "root.right = Node(2)\n",
    "root.left.left = Node(3)\n",
    "root.left.right = Node(4)\n",
    "root.left.left.left = Node(8)\n",
    "root.left.left.right = Node(9)\n",
    "\n",
    "root.left.left.left.left = Node(10)\n",
    "root.left.right = Node(4)\n",
    "\n",
    "root.right.left = Node(7)\n",
    "\n",
    "print (\"Preorder traversal of binary tree is : (root, left, right)\")\n",
    "printPreorder(root)\n",
    " \n",
    "print (\"\\nInorder traversal of binary tree is : (left, root, right)\")\n",
    "printInorder(root)\n",
    " \n",
    "print (\"\\nPostorder traversal of binary tree is : (left, right, root)\")\n",
    "printPostorder(root)"
   ]
  },
  {
   "cell_type": "code",
   "execution_count": null,
   "metadata": {},
   "outputs": [],
   "source": []
  }
 ],
 "metadata": {
  "kernelspec": {
   "display_name": "Python 3",
   "language": "python",
   "name": "python3"
  },
  "language_info": {
   "codemirror_mode": {
    "name": "ipython",
    "version": 3
   },
   "file_extension": ".py",
   "mimetype": "text/x-python",
   "name": "python",
   "nbconvert_exporter": "python",
   "pygments_lexer": "ipython3",
   "version": "3.7.3"
  }
 },
 "nbformat": 4,
 "nbformat_minor": 2
}
