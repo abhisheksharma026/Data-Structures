{
 "cells": [
  {
   "cell_type": "markdown",
   "id": "59e2c5af-73e7-4c80-a742-73dc3c9bd8b2",
   "metadata": {},
   "source": [
    "#### Reversing an array in-place"
   ]
  },
  {
   "cell_type": "markdown",
   "id": "a5d5311e-769b-4139-8006-3ef1f6ec67bb",
   "metadata": {},
   "source": [
    "The problem is that we want to reverse a T[] array in O(N) linear time complexity and we want the algorithm to be in-place as well - so no additional memory can be used!"
   ]
  },
  {
   "cell_type": "code",
   "execution_count": 1,
   "id": "db8798b2-bb9a-4b2a-bb69-3606bd003db3",
   "metadata": {},
   "outputs": [],
   "source": [
    "def reverseArray(arr):\n",
    "    startIdx = 0\n",
    "    endIdx = len(arr) - 1\n",
    "    \n",
    "    while endIdx > startIdx:\n",
    "        arr[startIdx], arr[endIdx] = arr[endIdx], arr[startIdx]\n",
    "        startIdx+=1\n",
    "        endIdx-=1\n",
    "    return arr"
   ]
  },
  {
   "cell_type": "code",
   "execution_count": 2,
   "id": "e5f947dd-416e-4656-85a1-505748d051e0",
   "metadata": {},
   "outputs": [
    {
     "data": {
      "text/plain": [
       "[9, 7, 5, 3, 1]"
      ]
     },
     "execution_count": 2,
     "metadata": {},
     "output_type": "execute_result"
    }
   ],
   "source": [
    "arr = [1,3,5,7,9]\n",
    "reverseArray(arr)"
   ]
  },
  {
   "cell_type": "code",
   "execution_count": 3,
   "id": "44fc667a-c72b-4e0c-be62-8fd8f6a8c10a",
   "metadata": {},
   "outputs": [
    {
     "data": {
      "text/plain": [
       "[7, 5, 3, 1]"
      ]
     },
     "execution_count": 3,
     "metadata": {},
     "output_type": "execute_result"
    }
   ],
   "source": [
    "arr = [1,3,5,7]\n",
    "reverseArray(arr)"
   ]
  },
  {
   "cell_type": "markdown",
   "id": "290bbca7-1456-47cc-bdd1-ffa58060a9ff",
   "metadata": {},
   "source": [
    "#### Design an optimal algorithm for checking whether a given string is palindrome or not! "
   ]
  },
  {
   "cell_type": "code",
   "execution_count": 4,
   "id": "bb64e2ed-d516-4b2b-af71-848f382dddd3",
   "metadata": {},
   "outputs": [
    {
     "data": {
      "text/plain": [
       "'\\nOther approach : s == s[::-1]\\n\\n'"
      ]
     },
     "execution_count": 4,
     "metadata": {},
     "output_type": "execute_result"
    }
   ],
   "source": [
    "def reverseStr(s):\n",
    "    startIdx = 0\n",
    "    endIdx = len(s) - 1\n",
    "    \n",
    "    s = list(s)\n",
    "    while endIdx > startIdx:\n",
    "        s[startIdx], s[endIdx] = s[endIdx], s[startIdx]\n",
    "        startIdx+=1\n",
    "        endIdx-=1\n",
    "    return ''.join(s)\n",
    "\n",
    "def pallindrome(s):\n",
    "    if reverseStr(s) == s:\n",
    "        return True\n",
    "    return False\n",
    "\n",
    "\"\"\"\n",
    "Other approach : s == s[::-1]\n",
    "\n",
    "\"\"\""
   ]
  },
  {
   "cell_type": "code",
   "execution_count": 5,
   "id": "4cdda985-d470-419d-b4d7-868afe015579",
   "metadata": {},
   "outputs": [
    {
     "data": {
      "text/plain": [
       "True"
      ]
     },
     "execution_count": 5,
     "metadata": {},
     "output_type": "execute_result"
    }
   ],
   "source": [
    "s = 'malayalam'\n",
    "pallindrome(s)"
   ]
  },
  {
   "cell_type": "markdown",
   "id": "92c8c3bf-e410-47db-8194-23a59bbca936",
   "metadata": {},
   "source": [
    "#### Construct an algorithm to check whether two words (or phrases) are anagrams or not!"
   ]
  },
  {
   "cell_type": "code",
   "execution_count": 6,
   "id": "0ec2acd5-aa98-44fd-acf2-a13e84f373a7",
   "metadata": {},
   "outputs": [],
   "source": [
    "def anagram(s1, s2):\n",
    "    if len(s1) != len(s2):\n",
    "        return False\n",
    "    \n",
    "    if sorted(s1) == sorted(s2):\n",
    "        return True\n",
    "    return False"
   ]
  },
  {
   "cell_type": "code",
   "execution_count": 7,
   "id": "396e2674-16f8-42ee-a06c-96d82ec3dd09",
   "metadata": {},
   "outputs": [
    {
     "data": {
      "text/plain": [
       "True"
      ]
     },
     "execution_count": 7,
     "metadata": {},
     "output_type": "execute_result"
    }
   ],
   "source": [
    "anagram('heart', 'earth')"
   ]
  },
  {
   "cell_type": "markdown",
   "id": "7b00fc15-c767-49e2-aae2-9a617e2935ff",
   "metadata": {},
   "source": [
    "#### Array is monotonic or not"
   ]
  },
  {
   "cell_type": "code",
   "execution_count": 8,
   "id": "f6944567-9f64-40b3-9ede-14a7b2be4cf2",
   "metadata": {},
   "outputs": [],
   "source": [
    "def isMonotonic(array):\n",
    "    \"\"\"\n",
    "    Either increasing ot decreasing\n",
    "    \n",
    "    \"\"\"\n",
    "\n",
    "    if len(array) == 0 or len(array) == 1:\n",
    "        return True\n",
    "\n",
    "    monoInc = 1\n",
    "    monoDec = 1\n",
    "    for idx in range(len(array) - 1):\n",
    "        if array[idx] <= array[idx+1]:\n",
    "            monoInc+=1\n",
    "\n",
    "    for idx in range(len(array) - 1):\n",
    "        if array[idx] >= array[idx+1]:\n",
    "            monoDec+=1\n",
    "\n",
    "    if monoInc == len(array) or monoDec == len(array):\n",
    "        return True\n",
    "    return False\n"
   ]
  },
  {
   "cell_type": "code",
   "execution_count": 9,
   "id": "abe2996c-12ca-4270-ab53-749e46ce03e1",
   "metadata": {},
   "outputs": [
    {
     "data": {
      "text/plain": [
       "True"
      ]
     },
     "execution_count": 9,
     "metadata": {},
     "output_type": "execute_result"
    }
   ],
   "source": [
    "l = [1, 5, 10, 1100, 1101, 1102, 9001]\n",
    "isMonotonic(l)"
   ]
  },
  {
   "cell_type": "code",
   "execution_count": 10,
   "id": "71bae96b-f8d4-4fbe-a05b-2b740bf02260",
   "metadata": {},
   "outputs": [
    {
     "data": {
      "text/plain": [
       "True"
      ]
     },
     "execution_count": 10,
     "metadata": {},
     "output_type": "execute_result"
    }
   ],
   "source": [
    "l = [-1, -5, -10, -1100, -1101, -1102, -9001]\n",
    "isMonotonic(l)"
   ]
  },
  {
   "cell_type": "markdown",
   "id": "df97a69f-1a66-482a-b25e-7026c5545c58",
   "metadata": {},
   "source": [
    "#### Smallest diff between two lists"
   ]
  },
  {
   "cell_type": "code",
   "execution_count": 11,
   "id": "11eafabc-4810-405a-aa60-f6ebdbe95cb7",
   "metadata": {},
   "outputs": [],
   "source": [
    "def smallestDifference(arrayOne, arrayTwo):\n",
    "    \"\"\"\n",
    "    Smallest diff b/w two elements of an array.\n",
    "    \"\"\"\n",
    "\n",
    "    cache = [[0 for i in range(len(arrayTwo))] for j in range(len(arrayOne))]\n",
    "\n",
    "    for i in range(len(cache)):\n",
    "        for j in range(len(cache[0])):\n",
    "            cache[i][j] = abs(arrayOne[i] - arrayTwo[j])\n",
    "\n",
    "    minIdx = []\n",
    "    minVal = cache[0][0]\n",
    "    for i in range(len(cache)):\n",
    "        for j in range(len(cache[0])):\n",
    "            if cache[i][j] < minVal:\n",
    "                minVal = cache[i][j]\n",
    "                minIdx.append((i,j))\n",
    "\n",
    "    firstVal = arrayOne[minIdx[-1][0]]\n",
    "    secondVal = arrayTwo[minIdx[-1][1]]\n",
    "    return [firstVal, secondVal]\n",
    "\n"
   ]
  },
  {
   "cell_type": "code",
   "execution_count": 12,
   "id": "193d4bea-96ed-4a13-a740-22ba26219425",
   "metadata": {},
   "outputs": [
    {
     "data": {
      "text/plain": [
       "[28, 26]"
      ]
     },
     "execution_count": 12,
     "metadata": {},
     "output_type": "execute_result"
    }
   ],
   "source": [
    "arrayOne = [-1, 5, 10, 20, 28, 3]\n",
    "arrayTwo = [26, 134, 135, 15, 17]\n",
    "\n",
    "smallestDifference(arrayOne, arrayTwo)"
   ]
  },
  {
   "cell_type": "markdown",
   "id": "c15b37cf-8228-48f3-9645-f9d73c8596a2",
   "metadata": {},
   "source": [
    "#### Reverse a number"
   ]
  },
  {
   "cell_type": "code",
   "execution_count": 13,
   "id": "9987fcc3-0dd4-4854-af39-def95833b22a",
   "metadata": {},
   "outputs": [
    {
     "data": {
      "text/plain": [
       "4321"
      ]
     },
     "execution_count": 13,
     "metadata": {},
     "output_type": "execute_result"
    }
   ],
   "source": [
    "def revNum(num):\n",
    "    rev = 0\n",
    "    remainder = 0\n",
    "    while num > 0:\n",
    "        remainder = num % 10\n",
    "        rev = rev * 10 + remainder\n",
    "        num = num // 10\n",
    "    return rev\n",
    "        \n",
    "revNum(1234)"
   ]
  }
 ],
 "metadata": {
  "kernelspec": {
   "display_name": "Python 3 (ipykernel)",
   "language": "python",
   "name": "python3"
  },
  "language_info": {
   "codemirror_mode": {
    "name": "ipython",
    "version": 3
   },
   "file_extension": ".py",
   "mimetype": "text/x-python",
   "name": "python",
   "nbconvert_exporter": "python",
   "pygments_lexer": "ipython3",
   "version": "3.8.4"
  }
 },
 "nbformat": 4,
 "nbformat_minor": 5
}
