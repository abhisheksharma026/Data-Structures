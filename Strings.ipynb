{
 "cells": [
  {
   "cell_type": "code",
   "execution_count": 1,
   "id": "33a8b006-f0df-4224-859c-817393d898bd",
   "metadata": {},
   "outputs": [],
   "source": [
    "def minimumCharactersForWords(words):\n",
    "    \"\"\"\n",
    "    Takes in an array of words and returns the smallest array of characters needed to form all the words.\n",
    "    \n",
    "    \"\"\"\n",
    "    store = []\n",
    "    freq = []\n",
    "\n",
    "    def split(word):\n",
    "        return [char for char in word]\n",
    "\n",
    "    for item in words: # Iterate through every item\n",
    "        counter = {}\n",
    "        char = split(item) # Separate into characters\n",
    "        for c in char:\n",
    "            if c in counter.keys():\n",
    "                counter[c] += 1\n",
    "            else:\n",
    "                counter[c] = 1\n",
    "        freq.append(counter) # Append the freq of chars into a list for reference\n",
    "        store.append(char) # Append the chars into a list for reference\n",
    "\n",
    "    count = {}\n",
    "    for item in freq: # Iterate through every dict item\n",
    "        for k,v in item.items():\n",
    "            if k in count.keys():\n",
    "                if v > count[k]: # Check if new value is greater than the old one\n",
    "                    count[k] = v # Overwrite with larger value\n",
    "                else: # Do nothing for lesser value, skip\n",
    "                    pass\n",
    "            else: # If a new key, then update as it is.\n",
    "                count[k] = v\n",
    "\n",
    "    def getList(dict):\n",
    "        cache = []\n",
    "        for k,v in dict.items():\n",
    "            for i in range(v):\n",
    "                cache.append(k)\n",
    "        return cache\n",
    "\n",
    "    return getList(count)\n"
   ]
  },
  {
   "cell_type": "code",
   "execution_count": 2,
   "id": "819419f0-75d7-4263-a521-9edd5bc92db1",
   "metadata": {},
   "outputs": [],
   "source": [
    "def longestPalindromicSubstring(string):\n",
    "    \"\"\"\n",
    "    Given a string, returns its longest palindromic substring\n",
    "    \"\"\"\n",
    "    largest = []\n",
    "    \n",
    "    if len(string) == 1:\n",
    "        return string\n",
    "    \n",
    "    def reverse(s):\n",
    "        return s[::-1]\n",
    "    \n",
    "    for currIdx in range(len(string)-1): # Start from 2nd index till the end.\n",
    "        for slidingIdx in range(currIdx, len(string)): # Keep increasing window by 1\n",
    "            if string[currIdx:slidingIdx+1] == reverse(string[currIdx:slidingIdx+1]):\n",
    "                largest.append(string[currIdx:slidingIdx+1])\n",
    "\n",
    "    def getMaxStr(lst):\n",
    "        return max(lst, key=len)\n",
    "            \n",
    "    largestPallindrome = getMaxStr(largest)\n",
    "    \n",
    "    return largestPallindrome"
   ]
  }
 ],
 "metadata": {
  "kernelspec": {
   "display_name": "Python 3 (ipykernel)",
   "language": "python",
   "name": "python3"
  },
  "language_info": {
   "codemirror_mode": {
    "name": "ipython",
    "version": 3
   },
   "file_extension": ".py",
   "mimetype": "text/x-python",
   "name": "python",
   "nbconvert_exporter": "python",
   "pygments_lexer": "ipython3",
   "version": "3.8.4"
  }
 },
 "nbformat": 4,
 "nbformat_minor": 5
}
