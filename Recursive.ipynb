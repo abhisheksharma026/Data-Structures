{
 "cells": [
  {
   "cell_type": "code",
   "execution_count": 3,
   "metadata": {},
   "outputs": [
    {
     "name": "stdout",
     "output_type": "stream",
     "text": [
      "Collecting pysnooper\n",
      "  Downloading PySnooper-0.5.0-py2.py3-none-any.whl (14 kB)\n",
      "Installing collected packages: pysnooper\n",
      "Successfully installed pysnooper-0.5.0\n"
     ]
    },
    {
     "name": "stderr",
     "output_type": "stream",
     "text": [
      "WARNING: You are using pip version 20.3.3; however, version 21.1.2 is available.\n",
      "You should consider upgrading via the 'c:\\users\\abhishek\\anaconda3\\python.exe -m pip install --upgrade pip' command.\n"
     ]
    }
   ],
   "source": [
    "!pip install pysnooper"
   ]
  },
  {
   "cell_type": "code",
   "execution_count": 5,
   "metadata": {},
   "outputs": [
    {
     "name": "stdout",
     "output_type": "stream",
     "text": [
      "45\n"
     ]
    },
    {
     "name": "stderr",
     "output_type": "stream",
     "text": [
      "Source path:... <ipython-input-5-5f031b897425>\n",
      "Starting var:.. A = [1, 4, 45, 6, -50, 10, 2]\n",
      "Starting var:.. n = 7\n",
      "13:40:53.843114 call         4 def findMaxRec(A, n):\n",
      "13:40:53.843114 line         6     if (n == 1):\n",
      "13:40:53.843114 line         8     return max(A[n - 1], findMaxRec(A, n - 1))\n",
      "    Starting var:.. A = [1, 4, 45, 6, -50, 10, 2]\n",
      "    Starting var:.. n = 6\n",
      "    13:40:53.843114 call         4 def findMaxRec(A, n):\n",
      "    13:40:53.843114 line         6     if (n == 1):\n",
      "    13:40:53.843114 line         8     return max(A[n - 1], findMaxRec(A, n - 1))\n",
      "        Starting var:.. A = [1, 4, 45, 6, -50, 10, 2]\n",
      "        Starting var:.. n = 5\n",
      "        13:40:53.843114 call         4 def findMaxRec(A, n):\n",
      "        13:40:53.843114 line         6     if (n == 1):\n",
      "        13:40:53.843114 line         8     return max(A[n - 1], findMaxRec(A, n - 1))\n",
      "            Starting var:.. A = [1, 4, 45, 6, -50, 10, 2]\n",
      "            Starting var:.. n = 4\n",
      "            13:40:53.843114 call         4 def findMaxRec(A, n):\n",
      "            13:40:53.843114 line         6     if (n == 1):\n",
      "            13:40:53.844111 line         8     return max(A[n - 1], findMaxRec(A, n - 1))\n",
      "                Starting var:.. A = [1, 4, 45, 6, -50, 10, 2]\n",
      "                Starting var:.. n = 3\n",
      "                13:40:53.844111 call         4 def findMaxRec(A, n):\n",
      "                13:40:53.844111 line         6     if (n == 1):\n",
      "                13:40:53.844111 line         8     return max(A[n - 1], findMaxRec(A, n - 1))\n",
      "                    Starting var:.. A = [1, 4, 45, 6, -50, 10, 2]\n",
      "                    Starting var:.. n = 2\n",
      "                    13:40:53.844111 call         4 def findMaxRec(A, n):\n",
      "                    13:40:53.844111 line         6     if (n == 1):\n",
      "                    13:40:53.844111 line         8     return max(A[n - 1], findMaxRec(A, n - 1))\n",
      "                        Starting var:.. A = [1, 4, 45, 6, -50, 10, 2]\n",
      "                        Starting var:.. n = 1\n",
      "                        13:40:53.844111 call         4 def findMaxRec(A, n):\n",
      "                        13:40:53.844111 line         6     if (n == 1):\n",
      "                        13:40:53.844111 line         7         return A[0]\n",
      "                        13:40:53.844111 return       7         return A[0]\n",
      "                        Return value:.. 1\n",
      "                        Elapsed time: 00:00:00.000998\n",
      "                    13:40:53.845109 return       8     return max(A[n - 1], findMaxRec(A, n - 1))\n",
      "                    Return value:.. 4\n",
      "                    Elapsed time: 00:00:00.000998\n",
      "                13:40:53.845109 return       8     return max(A[n - 1], findMaxRec(A, n - 1))\n",
      "                Return value:.. 45\n",
      "                Elapsed time: 00:00:00.000998\n",
      "            13:40:53.845109 return       8     return max(A[n - 1], findMaxRec(A, n - 1))\n",
      "            Return value:.. 45\n",
      "            Elapsed time: 00:00:00.002743\n",
      "        13:40:53.846106 return       8     return max(A[n - 1], findMaxRec(A, n - 1))\n",
      "        Return value:.. 45\n",
      "        Elapsed time: 00:00:00.002992\n",
      "    13:40:53.846106 return       8     return max(A[n - 1], findMaxRec(A, n - 1))\n",
      "    Return value:.. 45\n",
      "    Elapsed time: 00:00:00.002992\n",
      "13:40:53.846106 return       8     return max(A[n - 1], findMaxRec(A, n - 1))\n",
      "Return value:.. 45\n",
      "Elapsed time: 00:00:00.002992\n"
     ]
    }
   ],
   "source": [
    "import pysnooper\n",
    "\n",
    "@pysnooper.snoop(depth=2)\n",
    "def findMaxRec(A, n):\n",
    "    # if n = 0 means whole array has been traversed\n",
    "    if (n == 1):\n",
    "        return A[0]\n",
    "    return max(A[n - 1], findMaxRec(A, n - 1))\n",
    " \n",
    "# Driver Code\n",
    "if __name__ == \"__main__\":\n",
    "     \n",
    "    A = [1, 4, 45, 6, -50, 10, 2]\n",
    "    n = len(A)\n",
    "    print(findMaxRec(A, n))"
   ]
  },
  {
   "cell_type": "code",
   "execution_count": null,
   "metadata": {},
   "outputs": [],
   "source": []
  },
  {
   "cell_type": "code",
   "execution_count": null,
   "metadata": {},
   "outputs": [],
   "source": []
  }
 ],
 "metadata": {
  "kernelspec": {
   "display_name": "Python 3",
   "language": "python",
   "name": "python3"
  },
  "language_info": {
   "codemirror_mode": {
    "name": "ipython",
    "version": 3
   },
   "file_extension": ".py",
   "mimetype": "text/x-python",
   "name": "python",
   "nbconvert_exporter": "python",
   "pygments_lexer": "ipython3",
   "version": "3.7.3"
  }
 },
 "nbformat": 4,
 "nbformat_minor": 2
}
